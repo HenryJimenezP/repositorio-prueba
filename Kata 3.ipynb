{
 "cells": [
  {
   "cell_type": "markdown",
   "metadata": {},
   "source": [
    "## Ejercicio 1 - Escribir declaraciones if y else"
   ]
  },
  {
   "cell_type": "code",
   "execution_count": 28,
   "metadata": {},
   "outputs": [
    {
     "name": "stdout",
     "output_type": "stream",
     "text": [
      "¡¡ADVERTENCIA!! Se acerca un asteroide a toda velocidad\n"
     ]
    }
   ],
   "source": [
    "asteroide= 49 #km/s\n",
    "if asteroide > 25:\n",
    "    print('¡¡ADVERTENCIA!! Se acerca un asteroide a toda velocidad') \n",
    "else:\n",
    "    print('Hoy hace un buen día, no hay alerta de asteroides')\n"
   ]
  },
  {
   "cell_type": "markdown",
   "metadata": {},
   "source": [
    "## Ejercicio 2 - Escribir declaraciones if, else, y elif"
   ]
  },
  {
   "cell_type": "code",
   "execution_count": 27,
   "metadata": {},
   "outputs": [
    {
     "name": "stdout",
     "output_type": "stream",
     "text": [
      "Hoy hace un buen día, no hay alerta de asteroides\n"
     ]
    }
   ],
   "source": [
    "asteroide= 19 #km/s\n",
    "if asteroide > 20:\n",
    "    print('¡Mira el cielo! pasa un asteroide dejando una estela de luz') \n",
    "elif asteroide == 20:\n",
    "    print('¡Mira el cielo! pasa un asteroide dejando una estela de luz') \n",
    "else:\n",
    "    print('Hoy hace un buen día, no hay alerta de asteroides')\n",
    "\n"
   ]
  },
  {
   "cell_type": "markdown",
   "metadata": {},
   "source": [
    "## Ejercicio 3 Uso de operadores and y or"
   ]
  },
  {
   "cell_type": "code",
   "execution_count": 25,
   "metadata": {},
   "outputs": [
    {
     "name": "stdout",
     "output_type": "stream",
     "text": [
      "¡Mira el cielo! pasa un asteroide dejando una estela de luz\n"
     ]
    }
   ],
   "source": [
    "velocidad_asteroide = 25 #km/s\n",
    "tamaño_asteroide = 50 #m\n",
    "if velocidad_asteroide > 25 and tamaño_asteroide > 25:\n",
    "    print('¡¡ADVERTENCIA!! Se aproxima un asteroide peligroso hacia la tierra') \n",
    "elif velocidad_asteroide >= 25:\n",
    "    print('¡Mira el cielo! pasa un asteroide dejando una estela de luz')\n",
    "elif velocidad_asteroide < 20:\n",
    "    print('Hoy hace un buen día, no hay alerta de asteroides')\n",
    "else:\n",
    "    print('Hoy hace un buen día, no hay alerta de asteroides')"
   ]
  },
  {
   "cell_type": "code",
   "execution_count": 26,
   "metadata": {},
   "outputs": [
    {
     "name": "stdout",
     "output_type": "stream",
     "text": [
      "¡¡ADVERTENCIA!! Se aproxima un asteroide peligroso hacia la tierra\n"
     ]
    }
   ],
   "source": [
    "velocidad_asteroide = 25 #km/s\n",
    "tamaño_asteroide = 50 #m\n",
    "if velocidad_asteroide > 25 or tamaño_asteroide > 25:\n",
    "    print('¡¡ADVERTENCIA!! Se aproxima un asteroide peligroso hacia la tierra') \n",
    "elif velocidad_asteroide >= 25:\n",
    "    print('¡Mira el cielo! pasa un asteroide dejando una estela de luz')\n",
    "elif velocidad_asteroide < 20:\n",
    "    print('Hoy hace un buen día, no hay alerta de asteroides')\n",
    "else:\n",
    "    print('Hoy hace un buen día, no hay alerta de asteroides')"
   ]
  }
 ],
 "metadata": {
  "interpreter": {
   "hash": "61c829ef39b7444a47a493e00364d747bd7fcceb00c4ddb97081fa89739b7ba8"
  },
  "kernelspec": {
   "display_name": "Python 3.10.2 64-bit",
   "language": "python",
   "name": "python3"
  },
  "language_info": {
   "codemirror_mode": {
    "name": "ipython",
    "version": 3
   },
   "file_extension": ".py",
   "mimetype": "text/x-python",
   "name": "python",
   "nbconvert_exporter": "python",
   "pygments_lexer": "ipython3",
   "version": "3.10.2"
  },
  "orig_nbformat": 4
 },
 "nbformat": 4,
 "nbformat_minor": 2
}
